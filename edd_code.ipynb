{
 "cells": [
  {
   "cell_type": "code",
   "execution_count": null,
   "id": "be636a04",
   "metadata": {},
   "outputs": [],
   "source": [
    "import pandas as pd\n",
    "import numpy as np\n",
    "from datetime import datetime, timedelta\n",
    "from datetime import time\n",
    "import os\n",
    "import math\n",
    "\n"
   ]
  },
  {
   "cell_type": "code",
   "execution_count": null,
   "id": "ee83f0ad",
   "metadata": {},
   "outputs": [],
   "source": [
    "pd.set_option('display.max_columns', None)\n",
    "pd.set_option('display.width', 0)"
   ]
  },
  {
   "cell_type": "code",
   "execution_count": null,
   "id": "635698e3",
   "metadata": {},
   "outputs": [],
   "source": [
    "raw_file=\"Raw data 26-April'25 According to 4_7.5.csv\"\n",
    "gst_file=\"GST 26-April'25 According to 4_7.5.csv\"\n",
    "tracker_file=\"EDD Tracker till 26th April'25.csv\"\n",
    "format_file=\"edd_format.csv\"\n",
    "ops_file=\"ops_status.csv\"\n",
    "old_tracker_file=\"old_tracker.csv\"\n"
   ]
  },
  {
   "cell_type": "code",
   "execution_count": null,
   "id": "6e7df7b8",
   "metadata": {},
   "outputs": [],
   "source": [
    "raw_data= pd.read_csv(raw_file,memory_map=True)\n",
    "gst_data=pd.read_csv(gst_file,memory_map=True)\n",
    "tracker_data=pd.read_csv(tracker_file,memory_map=True)\n",
    "master_format=pd.read_csv(format_file,memory_map=True)\n",
    "ops_status=pd.read_csv(ops_file,memory_map=True)\n",
    "old_tracker=pd.read_csv(old_tracker_file,memory_map=True)"
   ]
  },
  {
   "cell_type": "code",
   "execution_count": null,
   "id": "110aeefb",
   "metadata": {},
   "outputs": [],
   "source": [
    "raw_data.head(3)"
   ]
  },
  {
   "cell_type": "code",
   "execution_count": null,
   "id": "a3158f06",
   "metadata": {},
   "outputs": [],
   "source": [
    "gst_data=gst_data.rename(columns={'_col3':'updated_at'})\n",
    "gst_data.head(3)"
   ]
  },
  {
   "cell_type": "code",
   "execution_count": null,
   "id": "6a771d62",
   "metadata": {},
   "outputs": [],
   "source": [
    "# Convert the two columns to datetime first\n",
    "raw_data['mid_creation_date'] = pd.to_datetime(raw_data['mid_creation_date'], errors='coerce')\n",
    "raw_data['channel_date'] = pd.to_datetime(raw_data['channel_date'], errors='coerce')\n",
    "\n",
    "# Then format them to 'dd-mm-yyyy' string format\n",
    "raw_data['mid_creation_date'] = raw_data['mid_creation_date'].dt.strftime('%d-%m-%Y')\n",
    "raw_data['channel_date'] = raw_data['channel_date'].dt.strftime('%d-%m-%Y')\n",
    "\n",
    "raw_data.head(3)"
   ]
  },
  {
   "cell_type": "code",
   "execution_count": null,
   "id": "b8dd80e9",
   "metadata": {},
   "outputs": [],
   "source": [
    "tracker_data=tracker_data.fillna(0)\n",
    "tracker_data.isna().sum()"
   ]
  },
  {
   "cell_type": "code",
   "execution_count": null,
   "id": "dcd9f9f1",
   "metadata": {},
   "outputs": [],
   "source": [
    "len(ops_status)+len(tracker_data)+len(old_tracker)"
   ]
  },
  {
   "cell_type": "code",
   "execution_count": null,
   "id": "56d9a9e8",
   "metadata": {},
   "outputs": [],
   "source": [
    "tracker_data=tracker_data.rename(columns={'Bank Response':'bank_response','Final Remarks':'final_remarks'})\n",
    "old_tracker=old_tracker.rename(columns={'bank_response':'bank_response','Final Remarks':'final_remarks'})\n",
    "ops_status=ops_status.rename(columns={'sellerid':'bank_response','OPS status':'final_remarks'})\n",
    "\n",
    "\n",
    "\n",
    "ops_status_data= pd.concat([ops_status, tracker_data,old_tracker], axis=0, ignore_index=True)\n",
    "print('totol tracker data ',len(ops_status_data))\n",
    "print(ops_status_data.isna().sum())\n"
   ]
  },
  {
   "cell_type": "code",
   "execution_count": null,
   "id": "fab59a36",
   "metadata": {},
   "outputs": [],
   "source": [
    "len(raw_data)"
   ]
  },
  {
   "cell_type": "code",
   "execution_count": null,
   "id": "efdf1ba1",
   "metadata": {},
   "outputs": [],
   "source": [
    "# Make sure everything is a string first\n",
    "raw_data['sellerid'] = raw_data['sellerid'].astype(str)\n",
    "raw_data['entity_id'] = raw_data['entity_id'].astype(str)\n",
    "raw_data['parent_entity_id'] = raw_data['parent_entity_id'].astype(str)\n",
    "\n",
    "# Calculate the length of each entity_id\n",
    "raw_data['entity_len'] = raw_data['entity_id'].str.len()\n",
    "\n",
    "# Extract from seller_id the last N characters based on entity_len\n",
    "raw_data['seller_tail'] = raw_data.apply(lambda x: x['sellerid'][-int(x['entity_len']):], axis=1)\n",
    "\n",
    "\n",
    "# Step 3: Compare both\n",
    "raw_data['is_entity_match'] = raw_data['seller_tail'] == raw_data['entity_id']\n",
    "raw_data['is_parent_match'] = raw_data['seller_tail'] == raw_data['parent_entity_id']\n",
    "\n",
    "# Step 4: Create final match column\n",
    "raw_data['final_match'] = raw_data['is_entity_match'] | raw_data['is_parent_match']\n",
    "\n",
    "raw_data = raw_data[raw_data['final_match']]\n",
    "\n",
    "\n",
    "len(raw_data)\n",
    "\n"
   ]
  },
  {
   "cell_type": "code",
   "execution_count": null,
   "id": "5bad6a4b",
   "metadata": {},
   "outputs": [],
   "source": [
    "master_format[['parent_id', 'Child MID', 'Parent Entity_Id', 'Child Entity_Id',\n",
    "       'MID Creation Date', 'PTY Creation Date', 'Cust_id', 'channel',\n",
    "       'EDC Flag', 'vpa_type', 'sellerid', 'bank_response', 'bank_name',\n",
    "       'Pan No Business', 'Pan No Personal', 'gstin', 'gst_flag', 'category',\n",
    "       'sub_category', 'upi_mcc_code', 'entity_type', 'gmv', 'limit_flag',\n",
    "       'DRR', 'Month_expected_GMV', 'total_Child_mid', 'rank']]=raw_data[['parent_id', 'mid','parent_entity_id','entity_id',\n",
    "       'mid_creation_date', 'channel_date', 'cust_id', 'channel', 'edc_flag',\n",
    "       'vpa_type', 'sellerid', 'bank_response', 'bank_name', 'pan_no_business',\n",
    "       'pan_no_personal', 'gstin', 'gst_flag', 'category', 'sub_category',\n",
    "       'upi_mcc_code', 'entity_type', 'gmv', 'limit_flag', 'drr',\n",
    "       'month_expected_gmv', 'total_child_mid', 'rank']]\n",
    "\n",
    "len(master_format)"
   ]
  },
  {
   "cell_type": "code",
   "execution_count": null,
   "id": "51ee4c7f",
   "metadata": {},
   "outputs": [],
   "source": [
    "gst_mapping = gst_data.set_index('solution_value')['solution_value.1'].to_dict()\n",
    "master_format['GST Turn over'] = master_format['parent_id'].map(gst_mapping)\n",
    "\n",
    "# Fill missing GSTs with 'NA'\n",
    "master_format['GST Turn over'] = master_format['GST Turn over'].fillna('NA')"
   ]
  },
  {
   "cell_type": "code",
   "execution_count": null,
   "id": "e731bdc8",
   "metadata": {},
   "outputs": [],
   "source": [
    "ops_status_mapping = ops_status_data.set_index('bank_response')['final_remarks'].to_dict()\n",
    "master_format['OPS team status'] = master_format['bank_response'].map(ops_status_mapping)\n",
    "\n",
    "# Fill missing GSTs with 'NA'\n",
    "master_format['OPS team status'] = master_format['OPS team status'].fillna('Pending for share')"
   ]
  },
  {
   "cell_type": "code",
   "execution_count": null,
   "id": "78fceec1",
   "metadata": {},
   "outputs": [],
   "source": [
    "master_format.columns"
   ]
  },
  {
   "cell_type": "code",
   "execution_count": null,
   "id": "21f393d1",
   "metadata": {},
   "outputs": [],
   "source": [
    "\n",
    "master_format['Proposed Limit'] = np.where(\n",
    "    master_format['Month_expected_GMV'].isna(), \n",
    "    master_format['limit_flag'], \n",
    "    np.maximum(np.ceil(master_format['Month_expected_GMV'] / 1e5) * 1e5, master_format['limit_flag'])\n",
    ")\n"
   ]
  },
  {
   "cell_type": "code",
   "execution_count": null,
   "id": "baedc143",
   "metadata": {},
   "outputs": [],
   "source": [
    "\n",
    "# First replace NaN in 'gmv' with 0 for calculation\n",
    "master_format['% usage'] = (master_format['gmv'].fillna(0) / master_format['limit_flag']) * 100\n",
    "\n",
    "\n"
   ]
  },
  {
   "cell_type": "code",
   "execution_count": null,
   "id": "fb374a1a",
   "metadata": {},
   "outputs": [],
   "source": [
    "\n",
    "# Make sure % usage is numeric\n",
    "master_format['% usage'] = pd.to_numeric(master_format['% usage'], errors='coerce')\n",
    "\n",
    "# Define bins and labels\n",
    "bins = [-float('inf'), 5, 15, 40, 60, 80, 100, float('inf')]\n",
    "labels = ['1_<5 %', '2_5 to 15 %', '3_15-40%', '4_40-60%', '5_60-80%', '6_80-100%', '7.above 100%']\n",
    "\n",
    "# Apply binning\n",
    "master_format['Grouping'] = pd.cut(master_format['% usage'], bins=bins, labels=labels, right=False)\n",
    "\n",
    "\n",
    "\n",
    "master_format['Grouping'].value_counts()\n"
   ]
  },
  {
   "cell_type": "code",
   "execution_count": null,
   "id": "173ba0d6",
   "metadata": {},
   "outputs": [],
   "source": [
    "\n",
    "# Suppose your DataFrame is named df\n",
    "liquor_categories = ['Alcoholic Beverages', 'Restaurants and Bars', 'wine and liquor shop', 'Wine producers','Alcoholic beverages']\n",
    "\n",
    "master_format['Liquor/Others'] = master_format['sub_category'].apply(lambda x: 'Liquor' if x in liquor_categories else 'Others')\n",
    "\n",
    "\n",
    "master_format['Liquor/Others'].value_counts()\n",
    "\n"
   ]
  },
  {
   "cell_type": "code",
   "execution_count": null,
   "id": "aa791390",
   "metadata": {},
   "outputs": [],
   "source": [
    "\n",
    "\n",
    "master_format['Limit Required/Not'] = np.where(master_format['Proposed Limit'] > master_format['limit_flag'], 'Required', 'Not_required')\n",
    "\n",
    "master_format['Limit Required/Not'].value_counts()\n"
   ]
  },
  {
   "cell_type": "code",
   "execution_count": null,
   "id": "1e255d18",
   "metadata": {},
   "outputs": [],
   "source": [
    "\n",
    "master_format['Sum of GMV'] = master_format.groupby('bank_response')['gmv'].transform('sum')\n",
    "\n",
    "master_format['Sum of DRR'] = master_format.groupby('bank_response')['DRR'].transform('sum')\n",
    "\n",
    "master_format['Sum of Month Expected GMV'] = master_format.groupby('bank_response')['Month_expected_GMV'].transform('sum')\n",
    "\n",
    "master_format['Sum of limit_flag'] = master_format.groupby('bank_response')['limit_flag'].transform('sum')\n",
    "\n",
    "# Use numpy's vectorized operations  (MAX and ROUNDUP equivalent)\n",
    "master_format['Sum of Proposed Limit'] = np.maximum(np.ceil(master_format['Sum of Month Expected GMV'] / 10**5) * 10**5, master_format['Sum of limit_flag'])\n",
    "\n",
    "# Use numpy for the IF condition (AO2 > AN2)\n",
    "master_format['Limit Required/Not.1'] = np.where(master_format['Sum of Proposed Limit'] > master_format['Sum of limit_flag'], \"Required\", \"Not_required\")"
   ]
  },
  {
   "cell_type": "code",
   "execution_count": null,
   "id": "995f6c0f",
   "metadata": {},
   "outputs": [],
   "source": [
    "master_format.head(5)"
   ]
  },
  {
   "cell_type": "code",
   "execution_count": null,
   "id": "a37b1c57",
   "metadata": {},
   "outputs": [],
   "source": [
    "master_format.to_csv('master_data.csv',index=False)"
   ]
  }
 ],
 "metadata": {
  "kernelspec": {
   "display_name": "base",
   "language": "python",
   "name": "python3"
  },
  "language_info": {
   "codemirror_mode": {
    "name": "ipython",
    "version": 3
   },
   "file_extension": ".py",
   "mimetype": "text/x-python",
   "name": "python",
   "nbconvert_exporter": "python",
   "pygments_lexer": "ipython3",
   "version": "3.9.12"
  }
 },
 "nbformat": 4,
 "nbformat_minor": 5
}
